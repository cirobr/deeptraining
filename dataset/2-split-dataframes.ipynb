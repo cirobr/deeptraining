{
 "cells": [
  {
   "cell_type": "code",
   "execution_count": null,
   "metadata": {},
   "outputs": [],
   "source": [
    "using Pkg\n",
    "envpath = expanduser(\"~/envs/d11/\")\n",
    "Pkg.activate(envpath)\n",
    "\n",
    "# libs\n",
    "using Images\n",
    "using DataFrames\n",
    "using CSV\n",
    "using Random\n",
    "using MLUtils: splitobs, randobs\n",
    "using FLoops\n",
    "\n",
    "# private libs\n",
    "using CocoTools\n",
    "using PreprocessingImages; const p=PreprocessingImages"
   ]
  },
  {
   "cell_type": "code",
   "execution_count": null,
   "metadata": {},
   "outputs": [],
   "source": [
    "# output folders\n",
    "workpath = pwd() * \"/\"\n",
    "workpath = replace(workpath, homedir() => \"~\")"
   ]
  },
  {
   "cell_type": "code",
   "execution_count": null,
   "metadata": {},
   "outputs": [],
   "source": [
    "dftrain_master = CSV.read(expanduser(workpath) * \"dftrain.csv\", DataFrame)\n",
    "dftest = CSV.read(expanduser(workpath) * \"dftest.csv\", DataFrame)\n",
    "size(dftrain_master), size(dftest)"
   ]
  },
  {
   "cell_type": "code",
   "execution_count": null,
   "metadata": {},
   "outputs": [],
   "source": [
    "# # debug\n",
    "# dftrain = dftrain[1:10, :]\n",
    "# dftest = dftest[1:10, :];"
   ]
  },
  {
   "cell_type": "code",
   "execution_count": null,
   "metadata": {},
   "outputs": [],
   "source": [
    "classnames = [\"cat\", \"dog\", \"horse\", \"sheep\", \"cow\", \"elephant\", \"bear\", \"zebra\", \"giraffe\",]\n",
    "classes = map(x -> coco_classnames[x], classnames)\n",
    "classes'"
   ]
  },
  {
   "cell_type": "code",
   "execution_count": null,
   "metadata": {},
   "outputs": [],
   "source": [
    "function check_elements(a, b)\n",
    "    for element in a\n",
    "        if element in b\n",
    "            return true\n",
    "        end\n",
    "    end\n",
    "    return false\n",
    "end"
   ]
  },
  {
   "cell_type": "code",
   "execution_count": null,
   "metadata": {},
   "outputs": [],
   "source": [
    "# search masks for ALL classes of interest\n",
    "dftrain_master_classes = dftrain_master\n",
    "dftest_classes = dftest\n",
    "dfs = [dftrain_master_classes, dftest_classes]\n",
    "\n",
    "for df in dfs\n",
    "    r = size(df,1)\n",
    "    coi = zeros(Bool, r)\n",
    "    cow = zeros(Bool, r)\n",
    "\n",
    "    @floop for (i,row) in enumerate(eachrow(df))\n",
    "        fpfn = expanduser(row.y)\n",
    "        mask = load(fpfn)\n",
    "        g2i_mask = p.gray2Int32(mask)\n",
    "        coi[i] = check_elements(classes, g2i_mask)\n",
    "        cow[i] = coco_classnames[\"cow\"] in g2i_mask\n",
    "    end\n",
    "\n",
    "    df[!, Symbol(\"coi\")] = coi\n",
    "    df[!, Symbol(\"cow\")] = cow\n",
    "end"
   ]
  },
  {
   "cell_type": "code",
   "execution_count": null,
   "metadata": {},
   "outputs": [],
   "source": [
    "# split dftrain_master_classes into train and valid\n",
    "df = dftrain_master_classes[dftrain_master_classes.coi, :]\n",
    "Random.seed!(1234)   ### NEVER CHANGE THIS SEED\n",
    "indtrain, indvalid = splitobs(1:size(df,1), at=0.8, shuffle=true)\n",
    "dftrain_coi = df[indtrain,:]\n",
    "dfvalid_coi = df[indvalid,:]\n",
    "dftrain_cow = dftrain_coi[dftrain_coi.cow, :]\n",
    "dfvalid_cow = dfvalid_coi[dfvalid_coi.cow, :]\n",
    "\n",
    "size(dftrain_coi), size(dfvalid_coi), size(dftrain_cow), size(dfvalid_cow)"
   ]
  },
  {
   "cell_type": "code",
   "execution_count": null,
   "metadata": {},
   "outputs": [],
   "source": [
    "# create negative classes for balancing classification\n",
    "df_nocoi = dftrain_master_classes[.!dftrain_master_classes.coi, :]\n",
    "Ntrain_coi = size(dftrain_coi, 1)\n",
    "Nvalid_coi = size(dfvalid_coi, 1)\n",
    "dftrain_nocoi = randobs(df_nocoi, Ntrain_coi)\n",
    "dfvalid_nocoi = randobs(df_nocoi, Nvalid_coi)\n",
    "\n",
    "Ntrain_cow = size(dftrain_cow, 1)\n",
    "Nvalid_cow = size(dfvalid_cow, 1)\n",
    "dftrain_nocow = randobs(dftrain_nocoi, Ntrain_cow)\n",
    "dfvalid_nocow = randobs(dfvalid_nocoi, Nvalid_cow)\n",
    "\n",
    "size(dftrain_nocoi), size(dfvalid_nocoi), size(dftrain_nocow), size(dfvalid_nocow)"
   ]
  },
  {
   "cell_type": "code",
   "execution_count": null,
   "metadata": {},
   "outputs": [],
   "source": [
    "dftrain_coi_balanced = vcat(dftrain_coi, dftrain_nocoi)\n",
    "Random.seed!(1234)   ### NEVER CHANGE THIS SEED\n",
    "dftrain_coi_balanced = dftrain_coi_balanced[shuffle(1:end), :]\n",
    "size(dftrain_coi_balanced)"
   ]
  },
  {
   "cell_type": "code",
   "execution_count": null,
   "metadata": {},
   "outputs": [],
   "source": [
    "dfvalid_coi_balanced = vcat(dfvalid_coi, dfvalid_nocoi)\n",
    "Random.seed!(1234)   ### NEVER CHANGE THIS SEED\n",
    "dfvalid_coi_balanced = dfvalid_coi_balanced[shuffle(1:end), :]\n",
    "size(dfvalid_coi_balanced)"
   ]
  },
  {
   "cell_type": "code",
   "execution_count": null,
   "metadata": {},
   "outputs": [],
   "source": [
    "dftrain_cow_balanced = vcat(dftrain_cow, dftrain_nocow)\n",
    "Random.seed!(1234)   ### NEVER CHANGE THIS SEED\n",
    "dftrain_cow_balanced = dftrain_cow_balanced[shuffle(1:end), :]\n",
    "size(dftrain_cow_balanced)"
   ]
  },
  {
   "cell_type": "code",
   "execution_count": null,
   "metadata": {},
   "outputs": [],
   "source": [
    "dfvalid_cow_balanced = vcat(dfvalid_cow, dfvalid_nocow)\n",
    "Random.seed!(1234)   ### NEVER CHANGE THIS SEED\n",
    "dfvalid_cow_balanced = dfvalid_cow_balanced[shuffle(1:end), :]\n",
    "size(dfvalid_cow_balanced)"
   ]
  },
  {
   "cell_type": "code",
   "execution_count": null,
   "metadata": {},
   "outputs": [],
   "source": [
    "first(dftrain_coi_balanced,3)"
   ]
  },
  {
   "cell_type": "code",
   "execution_count": null,
   "metadata": {},
   "outputs": [],
   "source": [
    "# checkpoint\n",
    "df = dftrain_coi_balanced[dftrain_coi_balanced.coi, :]\n",
    "\n",
    "k = rand(1:size(df,1))\n",
    "fpfn_img = expanduser(df.X[k])\n",
    "fpfn_mask = expanduser(df.y[k])\n",
    "\n",
    "img = Images.load(fpfn_img)\n",
    "img = imresize(img, ratio=1/2)\n",
    "\n",
    "mask = Images.load(fpfn_mask)\n",
    "mask = imresize(mask, ratio=1/2)\n",
    "\n",
    "mosaicview(img, mask; nrow=1)"
   ]
  },
  {
   "cell_type": "code",
   "execution_count": null,
   "metadata": {},
   "outputs": [],
   "source": [
    "# checkpoint\n",
    "df = dftrain_cow_balanced[dftrain_cow_balanced.cow, :]\n",
    "\n",
    "k = rand(1:size(df,1))\n",
    "fpfn_img = expanduser(df.X[k])\n",
    "fpfn_mask = expanduser(df.y[k])\n",
    "\n",
    "img = Images.load(fpfn_img)\n",
    "img = imresize(img, ratio=1/2)\n",
    "\n",
    "mask = Images.load(fpfn_mask)\n",
    "mask = imresize(mask, ratio=1/2)\n",
    "\n",
    "mosaicview(img, mask; nrow=1)"
   ]
  },
  {
   "cell_type": "code",
   "execution_count": null,
   "metadata": {},
   "outputs": [],
   "source": [
    "# save data frames\n",
    "CSV.write(expanduser(workpath) * \"dftrain-coi-balanced.csv\", dftrain_coi_balanced)\n",
    "CSV.write(expanduser(workpath) * \"dftrain-cow-balanced.csv\", dftrain_cow_balanced)\n",
    "\n",
    "CSV.write(expanduser(workpath) * \"dfvalid-coi-balanced.csv\", dfvalid_coi_balanced)\n",
    "CSV.write(expanduser(workpath) * \"dfvalid-cow-balanced.csv\", dfvalid_cow_balanced)\n",
    "\n",
    "CSV.write(expanduser(workpath) * \"dftest-classes.csv\", dftest_classes)"
   ]
  }
 ],
 "metadata": {
  "kernelspec": {
   "display_name": "Julia 1.10.8",
   "language": "julia",
   "name": "julia-1.10"
  },
  "language_info": {
   "file_extension": ".jl",
   "mimetype": "application/julia",
   "name": "julia",
   "version": "1.10.8"
  }
 },
 "nbformat": 4,
 "nbformat_minor": 2
}
