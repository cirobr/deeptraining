{
 "cells": [
  {
   "cell_type": "markdown",
   "metadata": {},
   "source": [
    "pascalvoc: resize original images"
   ]
  },
  {
   "cell_type": "markdown",
   "metadata": {},
   "source": [
    "Strategy:\n",
    "1. Read: Images RGB / Masks RGB (original dataset)\n",
    "2. Pad\n",
    "3. Save: Images RGB / Masks RGB"
   ]
  },
  {
   "cell_type": "code",
   "execution_count": null,
   "metadata": {},
   "outputs": [],
   "source": [
    "padsize = (512,512)"
   ]
  },
  {
   "cell_type": "markdown",
   "metadata": {},
   "source": [
    "environment"
   ]
  },
  {
   "cell_type": "code",
   "execution_count": null,
   "metadata": {},
   "outputs": [],
   "source": [
    "using Pkg\n",
    "envpath = expanduser(\"~/envs/d11/\")\n",
    "Pkg.activate(envpath)"
   ]
  },
  {
   "cell_type": "code",
   "execution_count": null,
   "metadata": {},
   "outputs": [],
   "source": [
    "# libs\n",
    "using Images\n",
    "using DataFrames\n",
    "using CSV\n",
    "using FLoops\n",
    "using MLUtils: splitobs, randobs\n",
    "using Random"
   ]
  },
  {
   "cell_type": "code",
   "execution_count": null,
   "metadata": {},
   "outputs": [],
   "source": [
    "# private libs\n",
    "using PreprocessingImages; p=PreprocessingImages"
   ]
  },
  {
   "cell_type": "code",
   "execution_count": null,
   "metadata": {},
   "outputs": [],
   "source": [
    "# output folders\n",
    "workpath = pwd() * \"/\"\n",
    "workpath = replace(workpath, homedir() => \"~\")\n",
    "\n",
    "resizedTrainsetPath = workpath * \"images/resized/train/\"\n",
    "resizedValidsetPath = workpath * \"images/resized/valid/\"\n",
    "resizedTestsetPath  = workpath * \"images/resized/test/\"\n",
    "mkpath(expanduser(resizedTrainsetPath))\n",
    "mkpath(expanduser(resizedValidsetPath))\n",
    "mkpath(expanduser(resizedTestsetPath))"
   ]
  },
  {
   "cell_type": "markdown",
   "metadata": {},
   "source": [
    "input dataset"
   ]
  },
  {
   "cell_type": "code",
   "execution_count": null,
   "metadata": {},
   "outputs": [],
   "source": [
    "fpfn = expanduser(workpath) * \"dftrain.csv\"\n",
    "dftrain = CSV.read(fpfn, DataFrame)\n",
    "dftrain = dftrain[dftrain.segmented.==1, :]\n",
    "\n",
    "fpfn = expanduser(workpath) * \"dfvalid.csv\"\n",
    "dfvalid = CSV.read(fpfn, DataFrame)\n",
    "dfvalid = dfvalid[dfvalid.segmented.==1, :]\n",
    "\n",
    "fpfn = expanduser(workpath) * \"dftest.csv\"\n",
    "dftest = CSV.read(fpfn, DataFrame)\n",
    "dftest = dftest[dftest.segmented.==1, :];\n",
    "\n",
    "size(dftrain), size(dfvalid), size(dftest)"
   ]
  },
  {
   "cell_type": "code",
   "execution_count": null,
   "metadata": {},
   "outputs": [],
   "source": [
    "first(dftrain,3)"
   ]
  },
  {
   "cell_type": "code",
   "execution_count": null,
   "metadata": {},
   "outputs": [],
   "source": [
    "# create datasets with resized images\n",
    "dftrain_resized = copy(dftrain)\n",
    "dfvalid_resized = copy(dfvalid)\n",
    "dftest_resized = copy(dftest);"
   ]
  },
  {
   "cell_type": "code",
   "execution_count": null,
   "metadata": {},
   "outputs": [],
   "source": [
    "@. dftrain_resized.X = resizedTrainsetPath * basename(dftrain_resized.X)\n",
    "@. dfvalid_resized.X = resizedValidsetPath * basename(dfvalid_resized.X)\n",
    "@. dftest_resized.X  = resizedTestsetPath * basename(dftest_resized.X)\n",
    "\n",
    "@. dftrain_resized.y = resizedTrainsetPath * basename(dftrain_resized.y)\n",
    "@. dfvalid_resized.y = resizedValidsetPath * basename(dfvalid_resized.y)\n",
    "@. dftest_resized.y  = resizedTestsetPath * basename(dftest_resized.y)\n",
    "\n",
    "first(dftrain_resized,3)"
   ]
  },
  {
   "cell_type": "markdown",
   "metadata": {},
   "source": [
    "resize"
   ]
  },
  {
   "cell_type": "code",
   "execution_count": null,
   "metadata": {},
   "outputs": [],
   "source": [
    "dfs_in  = [dftrain, dfvalid, dftest]\n",
    "dfs_out = [dftrain_resized, dfvalid_resized, dftest_resized]\n",
    "\n",
    "# resize\n",
    "for (df_in, df_out) in zip(dfs_in, dfs_out)\n",
    "    N = size(df_in, 1)\n",
    "\n",
    "    # images\n",
    "    @floop for i in 1:N\n",
    "        # resize all images\n",
    "        local fpfn_in = expanduser(df_in.X[i])\n",
    "        img = Images.load(fpfn_in)                       # read\n",
    "        img = p.center_padview(img, padsize) .|> RGB     # pad\n",
    "        local fpfn_out = expanduser(df_out.X[i])\n",
    "        Images.save(fpfn_out, img)                       # save\n",
    "    end\n",
    "\n",
    "    # masks\n",
    "    @floop for i in 1:N\n",
    "        local fpfn_in = expanduser(df_in.y[i])\n",
    "        img = Images.load(fpfn_in)                       # read\n",
    "        img = p.center_padview(img, padsize) .|> Gray    # pad\n",
    "        local fpfn_out = expanduser(df_out.y[i])\n",
    "        Images.save(fpfn_out, img)                       # save\n",
    "    end\n",
    "end"
   ]
  },
  {
   "cell_type": "code",
   "execution_count": null,
   "metadata": {},
   "outputs": [],
   "source": [
    "size(dftrain_resized), size(dfvalid_resized), size(dftest_resized)"
   ]
  },
  {
   "cell_type": "code",
   "execution_count": null,
   "metadata": {},
   "outputs": [],
   "source": [
    "# save dataframes\n",
    "fpfn = expanduser(workpath) * \"dftrain-resized.csv\"\n",
    "CSV.write(fpfn, dftrain_resized)\n",
    "fpfn = expanduser(workpath) * \"dfvalid-resized.csv\"\n",
    "CSV.write(fpfn, dfvalid_resized)\n",
    "fpfn = expanduser(workpath) * \"dftest-resized.csv\"\n",
    "CSV.write(fpfn, dftest_resized)"
   ]
  },
  {
   "cell_type": "code",
   "execution_count": null,
   "metadata": {},
   "outputs": [],
   "source": [
    "# checkpoint\n",
    "df = CSV.read(expanduser(workpath) * \"dftrain-resized.csv\", DataFrame)\n",
    "k = rand(1:size(df, 1))\n",
    "img = Images.load(expanduser(df.X[k]))\n",
    "mask = Images.load(expanduser(df.y[k]))\n",
    "mosaicview([img, mask]; nrow=1)"
   ]
  }
 ],
 "metadata": {
  "kernelspec": {
   "display_name": "Julia 1.10.8",
   "language": "julia",
   "name": "julia-1.10"
  },
  "language_info": {
   "file_extension": ".jl",
   "mimetype": "application/julia",
   "name": "julia",
   "version": "1.10.8"
  }
 },
 "nbformat": 4,
 "nbformat_minor": 2
}
