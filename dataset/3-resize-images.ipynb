{
 "cells": [
  {
   "cell_type": "markdown",
   "metadata": {},
   "source": [
    "pascalvoc: resize original images"
   ]
  },
  {
   "cell_type": "markdown",
   "metadata": {},
   "source": [
    "Strategy:\n",
    "1. Read: Images RGB / Masks RGB (original dataset)\n",
    "2. Pad\n",
    "3. Save: Images RGB / Masks RGB"
   ]
  },
  {
   "cell_type": "code",
   "execution_count": null,
   "metadata": {},
   "outputs": [],
   "source": [
    "padsize = (640,640)"
   ]
  },
  {
   "cell_type": "markdown",
   "metadata": {},
   "source": [
    "environment"
   ]
  },
  {
   "cell_type": "code",
   "execution_count": null,
   "metadata": {},
   "outputs": [],
   "source": [
    "using Pkg\n",
    "envpath = expanduser(\"~/envs/d11/\")\n",
    "Pkg.activate(envpath)"
   ]
  },
  {
   "cell_type": "code",
   "execution_count": null,
   "metadata": {},
   "outputs": [],
   "source": [
    "# libs\n",
    "using Images\n",
    "using DataFrames\n",
    "using CSV\n",
    "using FLoops\n",
    "using MLUtils: splitobs, randobs\n",
    "using Random"
   ]
  },
  {
   "cell_type": "code",
   "execution_count": null,
   "metadata": {},
   "outputs": [],
   "source": [
    "# private libs\n",
    "using PreprocessingImages; p=PreprocessingImages"
   ]
  },
  {
   "cell_type": "code",
   "execution_count": null,
   "metadata": {},
   "outputs": [],
   "source": [
    "# output folders\n",
    "workpath = pwd() * \"/\"\n",
    "workpath = replace(workpath, homedir() => \"~\")\n",
    "\n",
    "resizedTrainsetPath = workpath * \"images/resized/train/\"\n",
    "resizedValidsetPath = workpath * \"images/resized/valid/\"\n",
    "resizedTestsetPath  = workpath * \"images/resized/test/\"\n",
    "mkpath(expanduser(resizedTrainsetPath))\n",
    "mkpath(expanduser(resizedValidsetPath))\n",
    "mkpath(expanduser(resizedTestsetPath))"
   ]
  },
  {
   "cell_type": "markdown",
   "metadata": {},
   "source": [
    "input dataset"
   ]
  },
  {
   "cell_type": "code",
   "execution_count": null,
   "metadata": {},
   "outputs": [],
   "source": [
    "fpfn = expanduser(workpath) * \"dftrain-coi-balanced.csv\"\n",
    "dftrain_coi_balanced = CSV.read(fpfn, DataFrame)\n",
    "\n",
    "fpfn = expanduser(workpath) * \"dftrain-cow-balanced.csv\"\n",
    "dftrain_cow_balanced = CSV.read(fpfn, DataFrame)\n",
    "\n",
    "fpfn = expanduser(workpath) * \"dfvalid-coi-balanced.csv\"\n",
    "dfvalid_coi_balanced = CSV.read(fpfn, DataFrame)\n",
    "\n",
    "fpfn = expanduser(workpath) * \"dfvalid-cow-balanced.csv\"\n",
    "dfvalid_cow_balanced = CSV.read(fpfn, DataFrame)\n",
    "\n",
    "fpfn = expanduser(workpath) * \"dftest-classes.csv\"\n",
    "dftest_classes = CSV.read(fpfn, DataFrame)\n",
    "\n",
    "size(dftrain_coi_balanced), size(dftrain_cow_balanced), size(dfvalid_coi_balanced), size(dfvalid_cow_balanced), size(dftest_classes)"
   ]
  },
  {
   "cell_type": "code",
   "execution_count": null,
   "metadata": {},
   "outputs": [],
   "source": [
    "first(dftrain_coi_balanced,3)"
   ]
  },
  {
   "cell_type": "code",
   "execution_count": null,
   "metadata": {},
   "outputs": [],
   "source": [
    "# create datasets with resized images\n",
    "dftrain_coi_resized = copy(dftrain_coi_balanced)\n",
    "dfvalid_coi_resized = copy(dfvalid_coi_balanced)\n",
    "\n",
    "dftrain_cow_resized = copy(dftrain_cow_balanced)\n",
    "dfvalid_cow_resized = copy(dfvalid_cow_balanced)\n",
    "\n",
    "dftest_classes_resized = copy(dftest_classes);"
   ]
  },
  {
   "cell_type": "code",
   "execution_count": null,
   "metadata": {},
   "outputs": [],
   "source": [
    "@. dftrain_coi_resized.X = resizedTrainsetPath * basename(dftrain_coi_resized.X)\n",
    "@. dfvalid_coi_resized.X = resizedValidsetPath * basename(dfvalid_coi_resized.X)\n",
    "\n",
    "@. dftrain_cow_resized.X = resizedTrainsetPath * basename(dftrain_cow_resized.X)\n",
    "@. dfvalid_cow_resized.X = resizedValidsetPath * basename(dfvalid_cow_resized.X)\n",
    "\n",
    "@. dftest_classes_resized.X = resizedTestsetPath * basename(dftest_classes_resized.X);"
   ]
  },
  {
   "cell_type": "code",
   "execution_count": null,
   "metadata": {},
   "outputs": [],
   "source": [
    "@. dftrain_coi_resized.y = resizedTrainsetPath * basename(dftrain_coi_resized.y)\n",
    "@. dfvalid_coi_resized.y = resizedValidsetPath * basename(dfvalid_coi_resized.y)\n",
    "\n",
    "@. dftrain_cow_resized.y = resizedTrainsetPath * basename(dftrain_cow_resized.y)\n",
    "@. dfvalid_cow_resized.y = resizedValidsetPath * basename(dfvalid_cow_resized.y)\n",
    "\n",
    "@. dftest_classes_resized.y = resizedTestsetPath * basename(dftest_classes_resized.y);"
   ]
  },
  {
   "cell_type": "code",
   "execution_count": null,
   "metadata": {},
   "outputs": [],
   "source": [
    "first(dftrain_coi_resized,3)"
   ]
  },
  {
   "cell_type": "markdown",
   "metadata": {},
   "source": [
    "resize"
   ]
  },
  {
   "cell_type": "code",
   "execution_count": null,
   "metadata": {},
   "outputs": [],
   "source": [
    "# # debug\n",
    "# dftrain_coi_balanced = dftrain_coi_balanced[1:10, :]\n",
    "# dfvalid_coi_balanced = dfvalid_coi_balanced[1:10, :]\n",
    "# dftest_classes = dftest_classes[1:10, :]\n",
    "\n",
    "# dftrain_coi_resized = dftrain_coi_resized[1:10, :]\n",
    "# dfvalid_coi_resized = dfvalid_coi_resized[1:10, :]\n",
    "# dftest_classes_resized = dftest_classes_resized[1:10, :];"
   ]
  },
  {
   "cell_type": "code",
   "execution_count": null,
   "metadata": {},
   "outputs": [],
   "source": [
    "### only coi images need to be resized\n",
    "dfs_in  = [dftrain_coi_balanced, dfvalid_coi_balanced, dftest_classes]\n",
    "dfs_out = [dftrain_coi_resized, dfvalid_coi_resized, dftest_classes_resized];\n",
    "\n",
    "# resize\n",
    "for (df_in, df_out) in zip(dfs_in, dfs_out)\n",
    "    N = size(df_in, 1)\n",
    "\n",
    "    # images\n",
    "    @floop for i in 1:N\n",
    "        # resize all images\n",
    "        local fpfn_in = expanduser(df_in.X[i])\n",
    "        img = Images.load(fpfn_in)                       # read\n",
    "        img = p.center_padview(img, padsize) .|> RGB     # pad\n",
    "        local fpfn_out = expanduser(df_out.X[i])\n",
    "        Images.save(fpfn_out, img)                       # save\n",
    "    end\n",
    "\n",
    "    # masks\n",
    "    @floop for i in 1:N\n",
    "        if !df_in.coi[i]   continue   end                # only coi masks need to be resized\n",
    "        local fpfn_in = expanduser(df_in.y[i])\n",
    "        img = Images.load(fpfn_in)                       # read\n",
    "        img = p.center_padview(img, padsize) .|> Gray    # pad\n",
    "        local fpfn_out = expanduser(df_out.y[i])\n",
    "        Images.save(fpfn_out, img)                       # save\n",
    "    end\n",
    "end"
   ]
  },
  {
   "cell_type": "code",
   "execution_count": null,
   "metadata": {},
   "outputs": [],
   "source": [
    "size(dftrain_coi_resized), size(dfvalid_coi_resized), size(dftest_classes_resized)"
   ]
  },
  {
   "cell_type": "code",
   "execution_count": null,
   "metadata": {},
   "outputs": [],
   "source": [
    "# save dataframes\n",
    "fpfn = expanduser(workpath) * \"dftrain-coi-resized.csv\"\n",
    "CSV.write(fpfn, dftrain_coi_resized)\n",
    "fpfn = expanduser(workpath) * \"dfvalid-coi-resized.csv\"\n",
    "CSV.write(fpfn, dfvalid_coi_resized)\n",
    "\n",
    "fpfn = expanduser(workpath) * \"dftrain-cow-resized.csv\"\n",
    "CSV.write(fpfn, dftrain_cow_resized)\n",
    "fpfn = expanduser(workpath) * \"dfvalid-cow-resized.csv\"\n",
    "CSV.write(fpfn, dfvalid_cow_resized)\n",
    "\n",
    "fpfn = expanduser(workpath) * \"dftest-classes-resized.csv\"\n",
    "CSV.write(fpfn, dftest_classes_resized)"
   ]
  }
 ],
 "metadata": {
  "kernelspec": {
   "display_name": "Julia 1.10.8",
   "language": "julia",
   "name": "julia-1.10"
  },
  "language_info": {
   "file_extension": ".jl",
   "mimetype": "application/julia",
   "name": "julia",
   "version": "1.10.8"
  }
 },
 "nbformat": 4,
 "nbformat_minor": 2
}
