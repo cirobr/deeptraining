{
 "cells": [
  {
   "cell_type": "code",
   "execution_count": 6,
   "metadata": {},
   "outputs": [
    {
     "name": "stderr",
     "output_type": "stream",
     "text": [
      "\u001b[32m\u001b[1m  Activating\u001b[22m\u001b[39m project at `~/envs/dev`\n"
     ]
    },
    {
     "data": {
      "text/plain": [
       "UResNet (generic function with 1 method)"
      ]
     },
     "metadata": {},
     "output_type": "display_data"
    }
   ],
   "source": [
    "using Pkg\n",
    "envpath = expanduser(\"~/envs/dev/\")\n",
    "Pkg.activate(envpath)\n",
    "\n",
    "# libs\n",
    "using Flux\n",
    "using Metalhead; m=Metalhead\n",
    "using CUDA\n",
    "using Images\n",
    "using DataFrames\n",
    "using CSV\n",
    "using FLoops\n",
    "using JLD2\n",
    "\n",
    "# private libs\n",
    "using TinyMachines; t=TinyMachines\n",
    "using PreprocessingImages; p=PreprocessingImages\n",
    "using PascalVocTools; pv=PascalVocTools\n",
    "using LibML\n",
    "using LibCUDA\n",
    "include(\"../architectures.jl\")"
   ]
  },
  {
   "cell_type": "code",
   "execution_count": 7,
   "metadata": {},
   "outputs": [],
   "source": [
    "model = m.ResNet(50; pretrain=true)\n",
    "backbone = m.backbone(model);"
   ]
  },
  {
   "cell_type": "code",
   "execution_count": 8,
   "metadata": {},
   "outputs": [
    {
     "data": {
      "text/plain": [
       "true"
      ]
     },
     "metadata": {},
     "output_type": "display_data"
    }
   ],
   "source": [
    "X = rand(Float32, 512,512,3,1)\n",
    "backbone(X) == backbone[1:5](X)"
   ]
  },
  {
   "cell_type": "code",
   "execution_count": 9,
   "metadata": {},
   "outputs": [
    {
     "data": {
      "text/plain": [
       "(16, 16, 2048, 1)"
      ]
     },
     "metadata": {},
     "output_type": "display_data"
    }
   ],
   "source": [
    "size(backbone[1:5](X))"
   ]
  },
  {
   "cell_type": "code",
   "execution_count": 10,
   "metadata": {},
   "outputs": [
    {
     "data": {
      "text/plain": [
       "(1000, 1)"
      ]
     },
     "metadata": {},
     "output_type": "display_data"
    }
   ],
   "source": [
    "size(model(X))"
   ]
  }
 ],
 "metadata": {
  "kernelspec": {
   "display_name": "Julia 1.10.3",
   "language": "julia",
   "name": "julia-1.10"
  },
  "language_info": {
   "file_extension": ".jl",
   "mimetype": "application/julia",
   "name": "julia",
   "version": "1.10.3"
  }
 },
 "nbformat": 4,
 "nbformat_minor": 2
}
