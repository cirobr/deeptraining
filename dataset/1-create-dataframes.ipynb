{
 "cells": [
  {
   "cell_type": "code",
   "execution_count": null,
   "metadata": {},
   "outputs": [],
   "source": [
    "using Pkg\n",
    "envpath = expanduser(\"~/envs/d11/\")\n",
    "Pkg.activate(envpath)\n",
    "\n",
    "# libs\n",
    "using Images\n",
    "using DataFrames\n",
    "using CSV\n",
    "using Random\n",
    "using MLUtils: splitobs, randobs\n",
    "using FLoops\n",
    "\n",
    "# private libs\n",
    "using CocoTools\n",
    "using PreprocessingImages; const pi=PreprocessingImages"
   ]
  },
  {
   "cell_type": "code",
   "execution_count": null,
   "metadata": {},
   "outputs": [],
   "source": [
    "# input folders\n",
    "datasetpath  = \"../coco/\"\n",
    "trainsetpath = datasetpath * \"train2017/\"\n",
    "testsetpath  = datasetpath * \"val2017/\"\n",
    "\n",
    "# output folders\n",
    "workpath = pwd() * \"/\"\n",
    "workpath = replace(workpath, homedir() => \"~\")"
   ]
  },
  {
   "cell_type": "code",
   "execution_count": null,
   "metadata": {},
   "outputs": [],
   "source": [
    "# create full data frames\n",
    "trainImages = filter(x -> occursin(r\"jpg\", x), readdir(expanduser(trainsetpath)))\n",
    "trainMasks  = filter(x -> occursin(r\"png\", x), readdir(expanduser(trainsetpath)))\n",
    "testImages  = filter(x -> occursin(r\"jpg\", x), readdir(expanduser(testsetpath)))\n",
    "testMasks   = filter(x -> occursin(r\"png\", x), readdir(expanduser(testsetpath)))\n",
    "\n",
    "fpfnTrainImages = trainsetpath .* trainImages\n",
    "fpfnTrainMasks  = trainsetpath .* trainMasks\n",
    "fpfnTestImages  = testsetpath .* testImages\n",
    "fpfnTestMasks   = testsetpath .* testMasks\n",
    "\n",
    "# create data frames\n",
    "dftrain = DataFrame(X=fpfnTrainImages, y=fpfnTrainMasks)\n",
    "dftest  = DataFrame(X=fpfnTestImages, y=fpfnTestMasks)\n",
    "\n",
    "size(dftrain), size(dftest)"
   ]
  },
  {
   "cell_type": "code",
   "execution_count": null,
   "metadata": {},
   "outputs": [],
   "source": [
    "first(dftrain, 5)"
   ]
  },
  {
   "cell_type": "code",
   "execution_count": null,
   "metadata": {},
   "outputs": [],
   "source": [
    "first(dftest, 5)"
   ]
  },
  {
   "cell_type": "code",
   "execution_count": null,
   "metadata": {},
   "outputs": [],
   "source": [
    "# show image and mask\n",
    "fpfn = expanduser(dftrain.X[1])\n",
    "img = load(fpfn)\n",
    "img = imresize(img, ratio=1/4)\n",
    "\n",
    "fpfn = expanduser(dftrain.y[1])\n",
    "mask = load(fpfn)\n",
    "mask = imresize(mask, ratio=1/4)\n",
    "\n",
    "mosaicview(img, mask; nrow=1)"
   ]
  },
  {
   "cell_type": "code",
   "execution_count": null,
   "metadata": {},
   "outputs": [],
   "source": [
    "# save data frames\n",
    "CSV.write(expanduser(workpath) * \"dftrain.csv\", dftrain)\n",
    "CSV.write(expanduser(workpath) * \"dftest.csv\", dftest)"
   ]
  }
 ],
 "metadata": {
  "kernelspec": {
   "display_name": "Julia 1.10.8",
   "language": "julia",
   "name": "julia-1.10"
  },
  "language_info": {
   "file_extension": ".jl",
   "mimetype": "application/julia",
   "name": "julia",
   "version": "1.10.8"
  }
 },
 "nbformat": 4,
 "nbformat_minor": 2
}
