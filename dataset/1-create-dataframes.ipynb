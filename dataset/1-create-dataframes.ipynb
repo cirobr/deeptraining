{
 "cells": [
  {
   "cell_type": "code",
   "execution_count": null,
   "metadata": {},
   "outputs": [],
   "source": [
    "using Pkg\n",
    "envpath = expanduser(\"~/envs/d8reg/\")\n",
    "Pkg.activate(envpath)\n",
    "\n",
    "# libs\n",
    "using Images\n",
    "using DataFrames\n",
    "using CSV\n",
    "using Random\n",
    "using MLUtils: splitobs, randobs"
   ]
  },
  {
   "cell_type": "code",
   "execution_count": null,
   "metadata": {},
   "outputs": [],
   "source": [
    "# input folders\n",
    "datasetPath  = \"../pascalvoc/VOCdevkit/VOC2012/\"\n",
    "imagesPath   = datasetPath * \"JPEGImages/\"\n",
    "masksPath    = datasetPath * \"SegmentationClass/\"\n",
    "cowslist     = datasetPath * \"ImageSets/Main/cow_trainval.txt\"   # escolha da classe de interesse\n",
    "\n",
    "# output folders\n",
    "workpath = pwd() * \"/\"\n",
    "workpath = replace(workpath, homedir() => \"~\")"
   ]
  },
  {
   "cell_type": "code",
   "execution_count": null,
   "metadata": {},
   "outputs": [],
   "source": [
    "# df\n",
    "df = CSV.read(expanduser(cowslist), header=false, DataFrame)\n",
    "\n",
    "# split columns\n",
    "df = DataFrame(filename=first.(split.(df[:,1], ' ')), label=last.(split.(df[:,1], ' ')))\n",
    "df.filename = df.filename .|> String\n",
    "df.label = map(x -> x == \"-1\" ? false : true, df.label)\n",
    "\n",
    "# add new column \"segmented\" to data frame\n",
    "df.segmented = zeros(Bool, size(df, 1))\n",
    "first(df, 5)"
   ]
  },
  {
   "cell_type": "code",
   "execution_count": null,
   "metadata": {},
   "outputs": [],
   "source": [
    "# populate segmented column\n",
    "segfiles = readdir(expanduser(masksPath))\n",
    "\n",
    "df.segmented = \n",
    "    [ifelse(row.label && row.filename * \".png\" in segfiles, true, false) \n",
    "    for row in eachrow(df)]\n",
    "\n",
    "sum(df.segmented)"
   ]
  },
  {
   "cell_type": "code",
   "execution_count": null,
   "metadata": {},
   "outputs": [],
   "source": [
    "# split segmented dataset in train, valid, test\n",
    "dfaux = df[df.segmented, :]\n",
    "N = size(dfaux, 1)\n",
    "Random.seed!(1234)   # MUST NOT CHANGE\n",
    "indtrain, indval, indtest = splitobs(1:N, at = (0.70, 0.20), shuffle = true)\n",
    "dftrain_seg = dfaux[indtrain, :]\n",
    "dfvalid_seg = dfaux[indval, :]\n",
    "dftest_seg  = dfaux[indtest, :]\n",
    "\n",
    "size(dftrain_seg), size(dfvalid_seg), size(dftest_seg)"
   ]
  },
  {
   "cell_type": "code",
   "execution_count": null,
   "metadata": {},
   "outputs": [],
   "source": [
    "# make non segmented dataset with same size as segmented\n",
    "# then, split in train, valid, test\n",
    "dfaux = df[df.segmented .== 0, :]\n",
    "Random.seed!(1234)   # MUST NOT CHANGE\n",
    "sampled_df = randobs(dfaux, N)\n",
    "indtrain, indval, indtest = splitobs(1:N, at = (0.70, 0.20), shuffle = true)\n",
    "dftrain_noseg = sampled_df[indtrain, :]\n",
    "dfvalid_noseg = sampled_df[indval, :]\n",
    "dftest_noseg  = sampled_df[indtest, :]\n",
    "\n",
    "size(dftrain_noseg), size(dfvalid_noseg), size(dftest_noseg)"
   ]
  },
  {
   "cell_type": "code",
   "execution_count": null,
   "metadata": {},
   "outputs": [],
   "source": [
    "# merge datasets\n",
    "dftrain = vcat(dftrain_seg, dftrain_noseg)\n",
    "dfvalid = vcat(dfvalid_seg, dfvalid_noseg)\n",
    "dftest  = vcat(dftest_seg, dftest_noseg)\n",
    "\n",
    "size(dftrain), size(dfvalid), size(dftest)"
   ]
  },
  {
   "cell_type": "code",
   "execution_count": null,
   "metadata": {},
   "outputs": [],
   "source": [
    "# make X addresses\n",
    "dftrain.X = imagesPath .* dftrain.filename .* \".jpg\"\n",
    "dfvalid.X = imagesPath .* dfvalid.filename .* \".jpg\"\n",
    "dftest.X  = imagesPath .* dftest.filename .* \".jpg\"\n",
    "\n",
    "# make y addresses\n",
    "dftrain.y = \n",
    "    [row.segmented == 1 ? masksPath .* row.filename .* \".png\" : \"\" for row in eachrow(dftrain)]\n",
    "dfvalid.y =\n",
    "    [row.segmented == 1 ? masksPath .* row.filename .* \".png\" : \"\" for row in eachrow(dfvalid)]\n",
    "dftest.y =\n",
    "    [row.segmented == 1 ? masksPath .* row.filename .* \".png\" : \"\" for row in eachrow(dftest)];\n",
    "\n",
    "# remove \"filename\" column\n",
    "dftrain = select!(dftrain, [:X, :y, :label, :segmented])\n",
    "dfvalid = select!(dfvalid, [:X, :y, :label, :segmented])\n",
    "dftest  = select!(dftest, [:X, :y, :label, :segmented]);"
   ]
  },
  {
   "cell_type": "code",
   "execution_count": null,
   "metadata": {},
   "outputs": [],
   "source": [
    "first(dftrain, 3)"
   ]
  },
  {
   "cell_type": "code",
   "execution_count": null,
   "metadata": {},
   "outputs": [],
   "source": [
    "last(dftrain, 3)"
   ]
  },
  {
   "cell_type": "code",
   "execution_count": null,
   "metadata": {},
   "outputs": [],
   "source": [
    "# save datasets\n",
    "CSV.write(expanduser(workpath) * \"dftrain.csv\", dftrain)\n",
    "CSV.write(expanduser(workpath) * \"dfvalid.csv\", dfvalid)\n",
    "CSV.write(expanduser(workpath) * \"dftest.csv\", dftest)"
   ]
  },
  {
   "cell_type": "code",
   "execution_count": null,
   "metadata": {},
   "outputs": [],
   "source": [
    "# checkpoint\n",
    "dftrain = CSV.read(expanduser(workpath) * \"dftrain.csv\", DataFrame)\n",
    "df = dftrain[dftrain.segmented, :]\n",
    "\n",
    "k = rand(1:size(df, 1))\n",
    "img = Images.load(expanduser(df.X[k]))\n",
    "msk = Images.load(expanduser(df.y[k]))\n",
    "mosaicview([img, msk]; nrow=1)"
   ]
  }
 ],
 "metadata": {
  "kernelspec": {
   "display_name": "Julia 1.10.8",
   "language": "julia",
   "name": "julia-1.10"
  },
  "language_info": {
   "file_extension": ".jl",
   "mimetype": "application/julia",
   "name": "julia",
   "version": "1.10.8"
  }
 },
 "nbformat": 4,
 "nbformat_minor": 2
}
